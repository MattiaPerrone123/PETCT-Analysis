{
 "cells": [
  {
   "cell_type": "code",
   "execution_count": 1,
   "metadata": {},
   "outputs": [],
   "source": [
    "import os\n",
    "import logging\n",
    "import src.config as config\n",
    "from src.logging_setup import configure_logging\n",
    "from src.orchestrator import (\n",
    "    process_patients_segmentation, \n",
    "    process_patients_registration,\n",
    "    orchestrate_pet_processing,\n",
    "    calculate_suv,\n",
    ")\n",
    "from src.demographics import create_patient_info_dataframe\n",
    "from src.suv_analysis import compute_mean_suv_across_patients\n",
    "\n",
    "logger=configure_logging()"
   ]
  },
  {
   "cell_type": "code",
   "execution_count": 2,
   "metadata": {},
   "outputs": [],
   "source": [
    "#First step - segmentation\n",
    "ct_masks_dict = process_patients_segmentation(\n",
    "    data_folder=config.DATA_FOLDER,\n",
    "    logger=logger,\n",
    "    limit=2,\n",
    "    save_temp=False,\n",
    "    load_temp=True,\n",
    "    temp_file=\"ct_masks_dict.pkl\"\n",
    ")\n",
    "\n",
    "logger.info(\"First step - Segmentation - complete\")"
   ]
  },
  {
   "cell_type": "code",
   "execution_count": 3,
   "metadata": {},
   "outputs": [],
   "source": [
    "#Second step - registration\n",
    "pet_ct_dict = process_patients_registration(\n",
    "    data_folder=config.DATA_FOLDER,\n",
    "    logger=logger,\n",
    "    target_description_pet=config.TARGET_DESCRIPTION_PET,\n",
    "    target_description_number_ct=config.TARGET_DESCRIPTION_NUMBER_CT,\n",
    "    target_study=config.TARGET_STUDY,\n",
    "    limit=6,\n",
    "    load_dict=True,\n",
    "    dict_file=\"pet_ct_dict.pkl\"\n",
    ")\n",
    "\n",
    "logger.info(\"Second step - Registration - complete\")"
   ]
  },
  {
   "cell_type": "code",
   "execution_count": 4,
   "metadata": {},
   "outputs": [],
   "source": [
    "#Third step: computing suv\n",
    "masked_pet_images_dict, masked_images_dict = orchestrate_pet_processing(\n",
    "    ct_dict=ct_masks_dict,\n",
    "    pet_dict=pet_ct_dict,\n",
    "    padding=config.PADDING,\n",
    "    ct_masks_flipped=config.CT_MASKS_FLIPPED\n",
    ")\n",
    "\n",
    "suv_volume_dict = calculate_suv(\n",
    "    config.DATA_FOLDER,\n",
    "    masked_pet_images_dict=None,\n",
    "    logger=logger,\n",
    "    load_temp=True\n",
    ")\n",
    "\n",
    "\n",
    "logger.info(\"Third step - Computing suv - complete\")\n",
    "\n",
    "\n",
    "#Computing suv by spinal level\n",
    "mean_suv_by_vertebra_by_patient, mean_suv_by_vertebral_level_across_patients = compute_mean_suv_across_patients(suv_volume_dict, masked_images_dict)\n",
    "    \n",
    "\n",
    "logger.info(\"Pipeline complete\")\n"
   ]
  }
 ],
 "metadata": {
  "accelerator": "GPU",
  "colab": {
   "gpuType": "A100",
   "machine_shape": "hm",
   "provenance": []
  },
  "kernelspec": {
   "display_name": "Python 3 (ipykernel)",
   "language": "python",
   "name": "python3"
  },
  "language_info": {
   "codemirror_mode": {
    "name": "ipython",
    "version": 3
   },
   "file_extension": ".py",
   "mimetype": "text/x-python",
   "name": "python",
   "nbconvert_exporter": "python",
   "pygments_lexer": "ipython3",
   "version": "3.11.5"
  }
 },
 "nbformat": 4,
 "nbformat_minor": 1
}
